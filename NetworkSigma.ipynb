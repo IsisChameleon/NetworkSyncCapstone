{
 "cells": [
  {
   "cell_type": "code",
   "execution_count": 3,
   "metadata": {},
   "outputs": [],
   "source": [
    "import sys\n",
    "import matplotlib.pyplot as plt\n",
    "import numpy as np\n",
    "import networkx as nx\n",
    "\n",
    "# Ignore warnings\n",
    "import warnings\n",
    "warnings.filterwarnings('ignore')"
   ]
  },
  {
   "cell_type": "code",
   "execution_count": 4,
   "metadata": {},
   "outputs": [],
   "source": [
    "N=50\n",
    "q=0.05\n",
    "G=nx.erdos_renyi_graph(N,q)"
   ]
  },
  {
   "cell_type": "code",
   "execution_count": 5,
   "metadata": {},
   "outputs": [],
   "source": [
    "# directed graph with weighted edges (https://networkx.org/documentation/stable/reference/classes/generated/networkx.Graph.add_weighted_edges_from.html)\n",
    "\n",
    "G = nx.DiGraph()  # or DiGraph, MultiGraph, MultiDiGraph, etc\n",
    "G.add_weighted_edges_from([(0, 1, 3.0), (1, 2, 7.5)])"
   ]
  },
  {
   "cell_type": "code",
   "execution_count": 6,
   "metadata": {},
   "outputs": [
    {
     "data": {
      "image/png": "[encoded data removed]",
      "text/plain": [
       "<Figure size 432x288 with 1 Axes>"
      ]
     },
     "metadata": {},
     "output_type": "display_data"
    }
   ],
   "source": [
    "# https://stackoverflow.com/questions/56597840/drawing-weighted-graph-from-adjacency-matrix-with-edge-labels\n",
    "# Directed weighted graph from weighted Adjacency Matric (matrix C in J. Lizier paper)\n",
    "\n",
    "A = [\n",
    "    [0, 1,  0,  .8, 0],\n",
    "    [0, 0,  .4, 0,  .3],\n",
    "    [0, 0,  0,  0,  0],\n",
    "    [0, 0,  .6, 0,  .7],\n",
    "    [0, 0,  0,  .2, 0]]\n",
    "\n",
    "G = nx.from_numpy_matrix(np.matrix(A), create_using=nx.DiGraph)\n",
    "layout = nx.spring_layout(G)\n",
    "nx.draw(G, layout)\n",
    "#nx.draw_networkx_edge_labels(G, pos=layout)\n",
    "labels = nx.get_edge_attributes(G, \"weight\")\n",
    "nx.draw_networkx_edge_labels(G, pos=layout, edge_labels=labels)\n",
    "plt.show()"
   ]
  },
  {
   "cell_type": "code",
   "execution_count": 28,
   "metadata": {},
   "outputs": [
    {
     "name": "stdout",
     "output_type": "stream",
     "text": [
      "bla no weights\n"
     ]
    }
   ],
   "source": [
    "edges_attributes_dict_keys = next(iter(G.edges(data=True)))[2].keys()\n",
    "edges_attributes_dict_keys\n",
    "\n",
    "if (not 'weight' in edges_attributes_dict_keys):\n",
    "    print('bla no weights')"
   ]
  },
  {
   "cell_type": "code",
   "execution_count": 26,
   "metadata": {},
   "outputs": [
    {
     "data": {
      "text/plain": [
       "{}"
      ]
     },
     "execution_count": 26,
     "metadata": {},
     "output_type": "execute_result"
    }
   ],
   "source": [
    "nodes_attributes_dict = next(iter(G.nodes(data=True)))[1]\n",
    "nodes_attributes_dict\n",
    "\n",
    "if ('weight' in "
   ]
  },
  {
   "cell_type": "code",
   "execution_count": 8,
   "metadata": {},
   "outputs": [],
   "source": [
    "# Visualize weighted graph (https://networkx.org/documentation/stable/auto_examples/drawing/plot_weighted_graph.html)\n",
    "\n",
    "def plotWeightedGraph(G: nx.DiGraph, weight_attribute='weight'):\n",
    "    ''' Plot weighted graph'''\n",
    "\n",
    "    \n",
    "    elarge = [(u, v) for (u, v, d) in G.edges(data=True) if d[weight_attribute] > 5]\n",
    "    esmall = [(u, v) for (u, v, d) in G.edges(data=True) if d[weight_attribute] <= 5]\n",
    "\n",
    "    pos = nx.spring_layout(G, seed=7)  # positions for all nodes - seed for reproducibility\n",
    "\n",
    "    # nodes\n",
    "    nx.draw_networkx_nodes(G, pos, node_size=700)\n",
    "\n",
    "    # edges\n",
    "    nx.draw_networkx_edges(G, pos, edgelist=elarge, width=6)\n",
    "    nx.draw_networkx_edges(G, pos, edgelist=esmall, width=6, alpha=0.5, edge_color=\"b\", style=\"dashed\"    )\n",
    "\n",
    "    # node labels\n",
    "    nx.draw_networkx_labels(G, pos, font_size=20, font_family=\"sans-serif\")\n",
    "    # edge weight labels\n",
    "    edge_labels = nx.get_edge_attributes(G, weight_attribute)\n",
    "    nx.draw_networkx_edge_labels(G, pos, edge_labels)\n",
    "\n",
    "    ax = plt.gca()\n",
    "    ax.margins(0.08)\n",
    "    plt.axis(\"off\")\n",
    "    plt.tight_layout()\n",
    "    plt.show()"
   ]
  },
  {
   "cell_type": "code",
   "execution_count": 9,
   "metadata": {},
   "outputs": [
    {
     "data": {
      "image/png": "[encoded data removed]",
      "text/plain": [
       "<Figure size 432x288 with 1 Axes>"
      ]
     },
     "metadata": {},
     "output_type": "display_data"
    }
   ],
   "source": [
    "plotWeightedGraph(G)"
   ]
  },
  {
   "cell_type": "code",
   "execution_count": 11,
   "metadata": {},
   "outputs": [],
   "source": [
    "\n",
    "import copy\n",
    "\n",
    "def initialize_nodes_values(g):\n",
    "    ''' setup initial x values on graph g'''\n",
    "    for node in g.nodes():\n",
    "        g.nodes[node]['x']=0.1\n",
    "\n",
    "def initialize_edges_weights(g):\n",
    "    for edge in g.edges():\n",
    "        g.edges[edge]['weight']=0.1\n",
    "\n",
    "\n",
    "class ProcessOnNetwork(): \n",
    "    def __init__(self, G):\n",
    "        super().__init__()\n",
    "\n",
    "        # Processing parameters\n",
    "\n",
    "        # allowed_kwargs = {'initializer'}\n",
    "        # for kwarg in kwargs.keys():\n",
    "        #     assert kwarg in allowed_kwargs, 'Invalid keyword argument: ' + kwarg\n",
    "        # initi = kwargs.get('blob')\n",
    "\n",
    "        # properties\n",
    "\n",
    "        self.g = copy.deepcopy(G)\n",
    "        self.C = nx.to_numpy_array(G)\n",
    "        self.node_initializer = initialize_nodes_values\n",
    "        self.edge_weight_initializer = initialize_edges_weights\n",
    "        self.N = G.number_of_nodes\n",
    "\n",
    "        # check graph has weights on its edges\n",
    "\n",
    "        edges_attributes_dict_keys = next(iter(self.g.edges(data=True)))[2].keys()\n",
    "\n",
    "        if (not 'weight' in edges_attributes_dict_keys):\n",
    "            print('This network has no weights on its edges, initializing with random values')\n",
    "            self.edge_weight_initializer(self.g)\n",
    "\n",
    "        # initialize node values\n",
    "        self.node_initializer()\n",
    "            \n",
    "    def initialize(self):\n",
    "        self.node_initializer()\n",
    "\n",
    "\n",
    "    def update(self, dt=0.001):\n",
    "        # \n",
    "        N = self.N\n",
    "\n",
    "        # take X the value of the dynamical process on each node as a row vector\n",
    "        X = np.array(nx.get_node_attributes(self.g, 'x')).reshape(1, N)\n",
    "\n",
    "        # Weighted adjacency matrix\n",
    "        C = self.C\n",
    "\n",
    "        # I - C\n",
    "        I = np.identity(N)\n",
    "        I_C = I - C\n",
    "\n",
    "        # dw Wiener process\n",
    "\n",
    "        dW= np.sqrt(dt)*np.random.standard_normal(X.shape)\n",
    "\n",
    "        dX = -X * I_C * dt + dW\n",
    "\n",
    "        Xnew = X + dX\n",
    "\n",
    "        nx.set_node_attributes(self.g, values=Xnew, name='x')\n"
   ]
  },
  {
   "cell_type": "code",
   "execution_count": 15,
   "metadata": {},
   "outputs": [],
   "source": [
    "G.nodes(data=True)\n",
    "for node in G.nodes():\n",
    "    G.nodes[node]['x']=0.1"
   ]
  },
  {
   "cell_type": "code",
   "execution_count": 16,
   "metadata": {},
   "outputs": [],
   "source": [
    "for edge in G.edges():\n",
    "    G.edges[edge]['weight']=0.1"
   ]
  },
  {
   "cell_type": "code",
   "execution_count": 22,
   "metadata": {},
   "outputs": [
    {
     "data": {
      "text/plain": [
       "[<matplotlib.lines.Line2D at 0x7f1d8f6a2250>]"
      ]
     },
     "execution_count": 22,
     "metadata": {},
     "output_type": "execute_result"
    },
    {
     "data": {
      "image/png": "[encoded data removed]",
      "text/plain": [
       "<Figure size 576x288 with 1 Axes>"
      ]
     },
     "metadata": {
      "needs_background": "light"
     },
     "output_type": "display_data"
    }
   ],
   "source": [
    "# https://ipython-books.github.io/134-simulating-a-stochastic-differential-equation/\n",
    "\n",
    "dt = .001  # Time step.\n",
    "T = 1.  # Total time.\n",
    "n = int(T / dt)  # Number of time steps.\n",
    "t = np.linspace(0., T, n)  # Vector of times.\n",
    "\n",
    "sigma = 1.  # Standard deviation.\n",
    "mu = 0.  # Mean.\n",
    "tau = 0.01 #.05  # Time constant.\n",
    "\n",
    "sigma_bis = sigma * np.sqrt(2. / tau)\n",
    "sqrtdt = np.sqrt(dt)\n",
    "\n",
    "x = np.zeros(n)\n",
    "\n",
    "for i in range(n - 1):\n",
    "    x[i + 1] = x[i] + dt * (-(x[i] - mu) / tau) + \\\n",
    "        sigma_bis * sqrtdt * np.random.randn()\n",
    "\n",
    "fig, ax = plt.subplots(1, 1, figsize=(8, 4))\n",
    "ax.plot(t, x, lw=2)"
   ]
  },
  {
   "cell_type": "code",
   "execution_count": 25,
   "metadata": {},
   "outputs": [
    {
     "data": {
      "text/plain": [
       "array([[ 0.01685208,  0.0181457 , -0.01906413,  0.01151455,  0.01182954,\n",
       "         0.00681198,  0.03647638, -0.00827636, -0.03311247, -0.05571611]])"
      ]
     },
     "execution_count": 25,
     "metadata": {},
     "output_type": "execute_result"
    }
   ],
   "source": [
    "# Wiener DW using Euler-Maruyama (https://ipython-books.github.io/134-simulating-a-stochastic-differential-equation/)\n",
    "\n",
    "# \n",
    "'''\n",
    "\n",
    "dx = a(t,x)dt + b(t,x)dw\n",
    "\n",
    "--> discretise time \n",
    "\n",
    "t = n * dt\n",
    "\n",
    "xn+1 = xn + dx = xn + a(t,xn)dt + b(t,xn) * sqrt(dt) * N(0,1)\n",
    "'''\n",
    "\n",
    "X = np.random.standard_normal((1,10))\n",
    "dt=0.001\n",
    "dW= np.sqrt(dt)*np.random.standard_normal(X.shape)\n",
    "dW"
   ]
  },
  {
   "cell_type": "code",
   "execution_count": 50,
   "metadata": {},
   "outputs": [
    {
     "name": "stdout",
     "output_type": "stream",
     "text": [
      "(1, 3, 3)\n",
      "[[[ 1.          2.          3.        ]\n",
      "  [ 4.          5.          6.        ]\n",
      "  [ 7.          8.          9.        ]]\n",
      "\n",
      " [[ 0.24502677  1.06231214 -0.50876436]\n",
      "  [ 1.59247385 -1.63678404  1.00452018]\n",
      "  [-0.08087132 -1.83989337  0.8403857 ]]]\n",
      "[[1. 2. 3.]\n",
      " [4. 5. 6.]\n",
      " [7. 8. 9.]]\n",
      "[[ 0.24502677  1.06231214 -0.50876436]\n",
      " [ 1.59247385 -1.63678404  1.00452018]\n",
      " [-0.08087132 -1.83989337  0.8403857 ]]\n",
      "[[[ 2.17326051 -0.56735649  0.62690253]\n",
      "  [-1.30649626  1.05531738 -0.7560109 ]\n",
      "  [-0.03307711 -0.92075987 -1.53562049]]]\n",
      "vstack -------------------------\n",
      "[[ 2.17326051 -0.56735649  0.62690253]\n",
      " [-1.30649626  1.05531738 -0.7560109 ]\n",
      " [-0.03307711 -0.92075987 -1.53562049]]\n"
     ]
    }
   ],
   "source": [
    "# TEST How to stack the x(t) matrices for each nodes of the network at each time step\n",
    "\n",
    "import numpy as np\n",
    "\n",
    "array = np.array([[1,2,3],[4,5,6],[7,8,9]]).reshape(1,3,3)\n",
    "print(array.shape)\n",
    "\n",
    "# array = np.expand_dims(array, axis = 2)\n",
    "# print(array.shape)\n",
    "\n",
    "X = np.random.standard_normal((3,3)).reshape(1,3,3)\n",
    "X2 = np.random.standard_normal((3,3)).reshape(1,3,3)\n",
    "\n",
    "#array = np.stack([array,X], axis=0)\n",
    "array = np.vstack((array,X))\n",
    "print(array)\n",
    "\n",
    "print(array[0])\n",
    "\n",
    "print(array[1])\n",
    "print(X2)\n",
    "\n",
    "print(\"vstack -------------------------\")\n",
    "\n",
    "array = np.vstack((array,X2))\n",
    "\n",
    "print(array[2])\n"
   ]
  }
 ],
 "metadata": {
  "kernelspec": {
   "display_name": "Python 3.9.10 ('base')",
   "language": "python",
   "name": "python3"
  },
  "language_info": {
   "codemirror_mode": {
    "name": "ipython",
    "version": 3
   },
   "file_extension": ".py",
   "mimetype": "text/x-python",
   "name": "python",
   "nbconvert_exporter": "python",
   "pygments_lexer": "ipython3",
   "version": "3.9.10"
  },
  "orig_nbformat": 4,
  "vscode": {
   "interpreter": {
    "hash": "d4d1e4263499bec80672ea0156c357c1ee493ec2b1c70f0acce89fc37c4a6abe"
   }
  }
 },
 "nbformat": 4,
 "nbformat_minor": 2
}
