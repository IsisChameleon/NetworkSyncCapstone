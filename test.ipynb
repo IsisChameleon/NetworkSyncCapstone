{
 "cells": [
  {
   "cell_type": "code",
   "execution_count": 1,
   "metadata": {},
   "outputs": [
    {
     "name": "stdout",
     "output_type": "stream",
     "text": [
      "FixIn-100-DegIn4-TDeleteEdgeAddEdgeWeightedColumnStochastic-NoSelf-FixedW-Continuous-MAX-001-Gstart.pkl\n",
      "FixIn-100-DegIn4-TDeleteEdgeAddEdgeWeightedColumnStochastic-NoSelf-FixedW-Continuous-MAX-001-output.txt\n",
      "FixIn-100-DegIn4-TDeleteEdgeAddEdgeWeightedColumnStochastic-NoSelf-FixedW-Continuous-MAX-001.pkl\n",
      "FixIn-100-DegIn4-TDeleteEdgeAddEdgeWeightedColumnStochastic-NoSelf-FixedW-Continuous-MAX-001_burnin_100001.pkl\n",
      "FixIn-100-DegIn4-TDeleteEdgeAddEdgeWeightedColumnStochastic-NoSelf-FixedW-Continuous-MAX-001_up_beta_100001.pkl\n",
      "FixIn-100-DegIn4-TDeleteEdgeAddEdgeWeightedColumnStochastic-NoSelf-FixedW-Continuous-MAX-001_up_beta_100002.pkl\n",
      "FixIn-100-DegIn4-TDeleteEdgeAddEdgeWeightedColumnStochastic-NoSelf-FixedW-Continuous-MAX-001_up_beta_100003.pkl\n",
      "FixIn-100-DegIn4-TDeleteEdgeAddEdgeWeightedColumnStochastic-NoSelf-FixedW-Continuous-MAX-001_up_beta_100004.pkl\n",
      "FixIn-100-DegIn4-TDeleteEdgeAddEdgeWeightedColumnStochastic-NoSelf-FixedW-Continuous-MAX-001_up_beta_100005.pkl\n",
      "FixIn-100-DegIn4-TDeleteEdgeAddEdgeWeightedColumnStochastic-NoSelf-FixedW-Continuous-MAX-001_up_beta_100006.pkl\n",
      "FixIn-100-DegIn4-TDeleteEdgeAddEdgeWeightedColumnStochastic-NoSelf-FixedW-Continuous-MAX-001_up_beta_100007.pkl\n",
      "FixIn-100-DegIn4-TDeleteEdgeAddEdgeWeightedColumnStochastic-NoSelf-FixedW-Continuous-MAX-001_up_beta_100008.pkl\n",
      "FixIn-100-DegIn4-TDeleteEdgeAddEdgeWeightedColumnStochastic-NoSelf-FixedW-Continuous-MAX-001_up_beta_100009.pkl\n",
      "FixIn-100-DegIn4-TDeleteEdgeAddEdgeWeightedColumnStochastic-NoSelf-FixedW-Continuous-MAX-001_up_beta_100010.pkl\n",
      "FixIn-100-DegIn4-TDeleteEdgeAddEdgeWeightedColumnStochastic-NoSelf-FixedW-Continuous-MAX-001_up_beta_100011.pkl\n"
     ]
    }
   ],
   "source": [
    "!ls /storage/data\n"
   ]
  },
  {
   "cell_type": "code",
   "execution_count": null,
   "metadata": {},
   "outputs": [],
   "source": []
  }
 ],
 "metadata": {
  "kernelspec": {
   "display_name": "Python 3 (ipykernel)",
   "language": "python",
   "name": "python3"
  },
  "language_info": {
   "codemirror_mode": {
    "name": "ipython",
    "version": 3
   },
   "file_extension": ".py",
   "mimetype": "text/x-python",
   "name": "python",
   "nbconvert_exporter": "python",
   "pygments_lexer": "ipython3",
   "version": "3.9.13"
  },
  "orig_nbformat": 4
 },
 "nbformat": 4,
 "nbformat_minor": 2
}
