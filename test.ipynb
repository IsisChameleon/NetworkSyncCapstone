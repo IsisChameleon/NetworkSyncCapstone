{
 "cells": [
  {
   "cell_type": "code",
   "execution_count": 1,
   "metadata": {},
   "outputs": [
    {
     "name": "stdout",
     "output_type": "stream",
     "text": [
      "FixIn-100-DegIn4-TDeleteEdgeAddEdgeWeightedColumnStochastic-NoSelf-FixedW-Continuous-MAX-001-Gstart.pkl\n",
      "FixIn-100-DegIn4-TDeleteEdgeAddEdgeWeightedColumnStochastic-NoSelf-FixedW-Continuous-MAX-001-output.txt\n",
      "FixIn-100-DegIn4-TDeleteEdgeAddEdgeWeightedColumnStochastic-NoSelf-FixedW-Continuous-MAX-001.pkl\n",
      "FixIn-100-DegIn4-TDeleteEdgeAddEdgeWeightedColumnStochastic-NoSelf-FixedW-Continuous-MAX-001_burnin_100001.pkl\n",
      "FixIn-100-DegIn4-TDeleteEdgeAddEdgeWeightedColumnStochastic-NoSelf-FixedW-Continuous-MAX-001_up_beta_100001.pkl\n",
      "FixIn-100-DegIn4-TDeleteEdgeAddEdgeWeightedColumnStochastic-NoSelf-FixedW-Continuous-MAX-001_up_beta_100002.pkl\n",
      "FixIn-100-DegIn4-TDeleteEdgeAddEdgeWeightedColumnStochastic-NoSelf-FixedW-Continuous-MAX-001_up_beta_100003.pkl\n",
      "FixIn-100-DegIn4-TDeleteEdgeAddEdgeWeightedColumnStochastic-NoSelf-FixedW-Continuous-MAX-001_up_beta_100004.pkl\n",
      "FixIn-100-DegIn4-TDeleteEdgeAddEdgeWeightedColumnStochastic-NoSelf-FixedW-Continuous-MAX-001_up_beta_100005.pkl\n",
      "FixIn-100-DegIn4-TDeleteEdgeAddEdgeWeightedColumnStochastic-NoSelf-FixedW-Continuous-MAX-001_up_beta_100006.pkl\n",
      "FixIn-100-DegIn4-TDeleteEdgeAddEdgeWeightedColumnStochastic-NoSelf-FixedW-Continuous-MAX-001_up_beta_100007.pkl\n",
      "FixIn-100-DegIn4-TDeleteEdgeAddEdgeWeightedColumnStochastic-NoSelf-FixedW-Continuous-MAX-001_up_beta_100008.pkl\n",
      "FixIn-100-DegIn4-TDeleteEdgeAddEdgeWeightedColumnStochastic-NoSelf-FixedW-Continuous-MAX-001_up_beta_100009.pkl\n",
      "FixIn-100-DegIn4-TDeleteEdgeAddEdgeWeightedColumnStochastic-NoSelf-FixedW-Continuous-MAX-001_up_beta_100010.pkl\n",
      "FixIn-100-DegIn4-TDeleteEdgeAddEdgeWeightedColumnStochastic-NoSelf-FixedW-Continuous-MAX-001_up_beta_100011.pkl\n"
     ]
    }
   ],
   "source": [
    "!ls /storage/data\n"
   ]
  },
  {
   "cell_type": "code",
   "execution_count": 10,
   "metadata": {},
   "outputs": [],
   "source": [
    "from networkGenerator import getDirectedColumnStochasticErdosRenyi\n",
    "import networkx as nx\n",
    "import numpy as np\n",
    "\n",
    "g = getDirectedColumnStochasticErdosRenyi(100, 0.05)\n",
    "\n",
    "weights = nx.get_edge_attributes(g, 'weight').values()"
   ]
  },
  {
   "cell_type": "code",
   "execution_count": 15,
   "metadata": {},
   "outputs": [
    {
     "name": "stdout",
     "output_type": "stream",
     "text": [
      "0.2079002079002079 0.15937096198641906\n"
     ]
    }
   ],
   "source": [
    "print(np.array(list(weights)).mean(), \\\n",
    "np.array(list(weights)).std())"
   ]
  },
  {
   "cell_type": "code",
   "execution_count": 17,
   "metadata": {},
   "outputs": [
    {
     "name": "stdout",
     "output_type": "stream",
     "text": [
      "Fixed 0.2079\n",
      "Varying 0.2079\n"
     ]
    }
   ],
   "source": [
    "\n",
    "wm = np.array(list(weights)).mean()\n",
    "wstd = np.array(list(weights)).std()\n",
    "\n",
    "print(f'Fixed {wm:.04f}')\n",
    "print(f'Varying {wm:.04f}')"
   ]
  },
  {
   "cell_type": "code",
   "execution_count": null,
   "metadata": {},
   "outputs": [],
   "source": [
    "import networkx as nx\n",
    "\n"
   ]
  }
 ],
 "metadata": {
  "kernelspec": {
   "display_name": "Python 3.9.10 ('base')",
   "language": "python",
   "name": "python3"
  },
  "language_info": {
   "codemirror_mode": {
    "name": "ipython",
    "version": 3
   },
   "file_extension": ".py",
   "mimetype": "text/x-python",
   "name": "python",
   "nbconvert_exporter": "python",
   "pygments_lexer": "ipython3",
   "version": "3.9.10"
  },
  "orig_nbformat": 4,
  "vscode": {
   "interpreter": {
    "hash": "d4d1e4263499bec80672ea0156c357c1ee493ec2b1c70f0acce89fc37c4a6abe"
   }
  }
 },
 "nbformat": 4,
 "nbformat_minor": 2
}
